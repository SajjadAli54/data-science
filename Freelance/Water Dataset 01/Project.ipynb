{
 "cells": [
  {
   "cell_type": "code",
   "execution_count": 1,
   "id": "a23f5851",
   "metadata": {},
   "outputs": [],
   "source": [
    "path = \"data.csv\"\n",
    "import pandas as pd\n",
    "import numpy as np"
   ]
  },
  {
   "cell_type": "code",
   "execution_count": null,
   "id": "12863557",
   "metadata": {},
   "outputs": [],
   "source": []
  },
  {
   "cell_type": "code",
   "execution_count": 2,
   "id": "9869a7e3",
   "metadata": {},
   "outputs": [
    {
     "data": {
      "text/html": [
       "<div>\n",
       "<style scoped>\n",
       "    .dataframe tbody tr th:only-of-type {\n",
       "        vertical-align: middle;\n",
       "    }\n",
       "\n",
       "    .dataframe tbody tr th {\n",
       "        vertical-align: top;\n",
       "    }\n",
       "\n",
       "    .dataframe thead th {\n",
       "        text-align: right;\n",
       "    }\n",
       "</style>\n",
       "<table border=\"1\" class=\"dataframe\">\n",
       "  <thead>\n",
       "    <tr style=\"text-align: right;\">\n",
       "      <th></th>\n",
       "      <th>Date</th>\n",
       "      <th>Total Solids</th>\n",
       "      <th>SS</th>\n",
       "      <th>BOD5</th>\n",
       "      <th>NH3</th>\n",
       "      <th>Org-N</th>\n",
       "      <th>P-TOT</th>\n",
       "      <th>SO4</th>\n",
       "      <th>TKN</th>\n",
       "      <th>PRCP_NOOA</th>\n",
       "    </tr>\n",
       "  </thead>\n",
       "  <tbody>\n",
       "    <tr>\n",
       "      <th>0</th>\n",
       "      <td>01/01/2001</td>\n",
       "      <td>984.0</td>\n",
       "      <td>170.0</td>\n",
       "      <td>173</td>\n",
       "      <td>15.93</td>\n",
       "      <td>14.0</td>\n",
       "      <td>4.58</td>\n",
       "      <td>72</td>\n",
       "      <td>29.97</td>\n",
       "      <td>0.0</td>\n",
       "    </tr>\n",
       "    <tr>\n",
       "      <th>1</th>\n",
       "      <td>02/01/2001</td>\n",
       "      <td>924.0</td>\n",
       "      <td>122.0</td>\n",
       "      <td>174</td>\n",
       "      <td>15.52</td>\n",
       "      <td>14.4</td>\n",
       "      <td>4.52</td>\n",
       "      <td>72</td>\n",
       "      <td>29.96</td>\n",
       "      <td>0.0</td>\n",
       "    </tr>\n",
       "    <tr>\n",
       "      <th>2</th>\n",
       "      <td>03/01/2001</td>\n",
       "      <td>1135.0</td>\n",
       "      <td>300.0</td>\n",
       "      <td>303</td>\n",
       "      <td>14.19</td>\n",
       "      <td>21.9</td>\n",
       "      <td>6.06</td>\n",
       "      <td></td>\n",
       "      <td>36.11</td>\n",
       "      <td>0.0</td>\n",
       "    </tr>\n",
       "    <tr>\n",
       "      <th>3</th>\n",
       "      <td>04/01/2001</td>\n",
       "      <td>1013.0</td>\n",
       "      <td>192.0</td>\n",
       "      <td>228</td>\n",
       "      <td>15.43</td>\n",
       "      <td>19.4</td>\n",
       "      <td>5.33</td>\n",
       "      <td></td>\n",
       "      <td>34.83</td>\n",
       "      <td>0.0</td>\n",
       "    </tr>\n",
       "    <tr>\n",
       "      <th>4</th>\n",
       "      <td>05/01/2001</td>\n",
       "      <td>1088.0</td>\n",
       "      <td>226.0</td>\n",
       "      <td>210</td>\n",
       "      <td>14.77</td>\n",
       "      <td>19.3</td>\n",
       "      <td>5.41</td>\n",
       "      <td></td>\n",
       "      <td>34.06</td>\n",
       "      <td>0.0</td>\n",
       "    </tr>\n",
       "  </tbody>\n",
       "</table>\n",
       "</div>"
      ],
      "text/plain": [
       "         Date  Total Solids     SS BOD5    NH3  Org-N P-TOT    SO4    TKN  \\\n",
       "0  01/01/2001         984.0  170.0  173  15.93   14.0  4.58     72  29.97   \n",
       "1  02/01/2001         924.0  122.0  174  15.52   14.4  4.52     72  29.96   \n",
       "2  03/01/2001        1135.0  300.0  303  14.19   21.9  6.06         36.11   \n",
       "3  04/01/2001        1013.0  192.0  228  15.43   19.4  5.33         34.83   \n",
       "4  05/01/2001        1088.0  226.0  210  14.77   19.3  5.41         34.06   \n",
       "\n",
       "   PRCP_NOOA  \n",
       "0        0.0  \n",
       "1        0.0  \n",
       "2        0.0  \n",
       "3        0.0  \n",
       "4        0.0  "
      ]
     },
     "execution_count": 2,
     "metadata": {},
     "output_type": "execute_result"
    }
   ],
   "source": [
    "data = pd.read_csv(path, encoding = \"utf-8\")\n",
    "data.head()"
   ]
  },
  {
   "cell_type": "code",
   "execution_count": 3,
   "id": "4ef072e3",
   "metadata": {},
   "outputs": [],
   "source": [
    "data.drop(['Date'], axis=1, inplace=True)"
   ]
  },
  {
   "cell_type": "code",
   "execution_count": 4,
   "id": "2f2e788f",
   "metadata": {},
   "outputs": [],
   "source": [
    "data = data.apply(lambda x: pd.Series(x.dropna().values)).fillna(' ')"
   ]
  },
  {
   "cell_type": "code",
   "execution_count": 5,
   "id": "db46d575",
   "metadata": {},
   "outputs": [
    {
     "data": {
      "text/html": [
       "<div>\n",
       "<style scoped>\n",
       "    .dataframe tbody tr th:only-of-type {\n",
       "        vertical-align: middle;\n",
       "    }\n",
       "\n",
       "    .dataframe tbody tr th {\n",
       "        vertical-align: top;\n",
       "    }\n",
       "\n",
       "    .dataframe thead th {\n",
       "        text-align: right;\n",
       "    }\n",
       "</style>\n",
       "<table border=\"1\" class=\"dataframe\">\n",
       "  <thead>\n",
       "    <tr style=\"text-align: right;\">\n",
       "      <th></th>\n",
       "      <th>Total Solids</th>\n",
       "      <th>SS</th>\n",
       "      <th>BOD5</th>\n",
       "      <th>NH3</th>\n",
       "      <th>Org-N</th>\n",
       "      <th>P-TOT</th>\n",
       "      <th>SO4</th>\n",
       "      <th>TKN</th>\n",
       "      <th>PRCP_NOOA</th>\n",
       "    </tr>\n",
       "  </thead>\n",
       "  <tbody>\n",
       "    <tr>\n",
       "      <th>0</th>\n",
       "      <td>984.0</td>\n",
       "      <td>170.0</td>\n",
       "      <td>173</td>\n",
       "      <td>15.93</td>\n",
       "      <td>14.0</td>\n",
       "      <td>4.58</td>\n",
       "      <td>72</td>\n",
       "      <td>29.97</td>\n",
       "      <td>0.0</td>\n",
       "    </tr>\n",
       "    <tr>\n",
       "      <th>1</th>\n",
       "      <td>924.0</td>\n",
       "      <td>122.0</td>\n",
       "      <td>174</td>\n",
       "      <td>15.52</td>\n",
       "      <td>14.4</td>\n",
       "      <td>4.52</td>\n",
       "      <td>72</td>\n",
       "      <td>29.96</td>\n",
       "      <td>0.0</td>\n",
       "    </tr>\n",
       "    <tr>\n",
       "      <th>2</th>\n",
       "      <td>1135.0</td>\n",
       "      <td>300.0</td>\n",
       "      <td>303</td>\n",
       "      <td>14.19</td>\n",
       "      <td>21.9</td>\n",
       "      <td>6.06</td>\n",
       "      <td></td>\n",
       "      <td>36.11</td>\n",
       "      <td>0.0</td>\n",
       "    </tr>\n",
       "    <tr>\n",
       "      <th>3</th>\n",
       "      <td>1013.0</td>\n",
       "      <td>192.0</td>\n",
       "      <td>228</td>\n",
       "      <td>15.43</td>\n",
       "      <td>19.4</td>\n",
       "      <td>5.33</td>\n",
       "      <td></td>\n",
       "      <td>34.83</td>\n",
       "      <td>0.0</td>\n",
       "    </tr>\n",
       "    <tr>\n",
       "      <th>4</th>\n",
       "      <td>1088.0</td>\n",
       "      <td>226.0</td>\n",
       "      <td>210</td>\n",
       "      <td>14.77</td>\n",
       "      <td>19.3</td>\n",
       "      <td>5.41</td>\n",
       "      <td></td>\n",
       "      <td>34.06</td>\n",
       "      <td>0.0</td>\n",
       "    </tr>\n",
       "  </tbody>\n",
       "</table>\n",
       "</div>"
      ],
      "text/plain": [
       "  Total Solids     SS BOD5    NH3 Org-N P-TOT    SO4    TKN  PRCP_NOOA\n",
       "0        984.0  170.0  173  15.93  14.0  4.58     72  29.97        0.0\n",
       "1        924.0  122.0  174  15.52  14.4  4.52     72  29.96        0.0\n",
       "2       1135.0  300.0  303  14.19  21.9  6.06         36.11        0.0\n",
       "3       1013.0  192.0  228  15.43  19.4  5.33         34.83        0.0\n",
       "4       1088.0  226.0  210  14.77  19.3  5.41         34.06        0.0"
      ]
     },
     "execution_count": 5,
     "metadata": {},
     "output_type": "execute_result"
    }
   ],
   "source": [
    "data.head()"
   ]
  },
  {
   "cell_type": "code",
   "execution_count": 6,
   "id": "f7074c0d",
   "metadata": {},
   "outputs": [
    {
     "data": {
      "text/plain": [
       "Total Solids    0\n",
       "SS              0\n",
       "BOD5            0\n",
       "NH3             0\n",
       "Org-N           0\n",
       "P-TOT           0\n",
       "SO4             0\n",
       "TKN             0\n",
       "PRCP_NOOA       0\n",
       "dtype: int64"
      ]
     },
     "execution_count": 6,
     "metadata": {},
     "output_type": "execute_result"
    }
   ],
   "source": [
    "data.isnull().sum()"
   ]
  },
  {
   "cell_type": "code",
   "execution_count": 7,
   "id": "12c33cd8",
   "metadata": {},
   "outputs": [
    {
     "data": {
      "text/plain": [
       "6574"
      ]
     },
     "execution_count": 7,
     "metadata": {},
     "output_type": "execute_result"
    }
   ],
   "source": [
    "len(data)"
   ]
  },
  {
   "cell_type": "code",
   "execution_count": 8,
   "id": "40977d4c",
   "metadata": {},
   "outputs": [],
   "source": [
    "data.dropna(inplace=True)"
   ]
  },
  {
   "cell_type": "code",
   "execution_count": 9,
   "id": "ea762889",
   "metadata": {},
   "outputs": [
    {
     "data": {
      "text/plain": [
       "6574"
      ]
     },
     "execution_count": 9,
     "metadata": {},
     "output_type": "execute_result"
    }
   ],
   "source": [
    "len(data)"
   ]
  },
  {
   "cell_type": "code",
   "execution_count": 10,
   "id": "ac6cfb1b",
   "metadata": {},
   "outputs": [],
   "source": [
    "cols = data.columns\n",
    "\n",
    "for col in data.columns:\n",
    "    for i in data.index:\n",
    "        x = data.loc[i, col]\n",
    "        try:\n",
    "            data.loc[i, col] = float(x)\n",
    "        except:\n",
    "            data.loc[i, col] = None"
   ]
  },
  {
   "cell_type": "code",
   "execution_count": 11,
   "id": "75c85982",
   "metadata": {},
   "outputs": [
    {
     "data": {
      "text/plain": [
       "Total Solids       7\n",
       "SS                10\n",
       "BOD5             188\n",
       "NH3                9\n",
       "Org-N              9\n",
       "P-TOT              8\n",
       "SO4             5635\n",
       "TKN                7\n",
       "PRCP_NOOA          0\n",
       "dtype: int64"
      ]
     },
     "execution_count": 11,
     "metadata": {},
     "output_type": "execute_result"
    }
   ],
   "source": [
    "data.isnull().sum()"
   ]
  },
  {
   "cell_type": "code",
   "execution_count": 12,
   "id": "a2ff2c9b",
   "metadata": {},
   "outputs": [],
   "source": [
    "data.drop(['SO4'], axis=1, inplace=True)"
   ]
  },
  {
   "cell_type": "code",
   "execution_count": 13,
   "id": "f68ede81",
   "metadata": {},
   "outputs": [],
   "source": [
    "data.dropna(inplace=True)"
   ]
  },
  {
   "cell_type": "code",
   "execution_count": 14,
   "id": "a4aad15e",
   "metadata": {},
   "outputs": [
    {
     "data": {
      "text/plain": [
       "6384"
      ]
     },
     "execution_count": 14,
     "metadata": {},
     "output_type": "execute_result"
    }
   ],
   "source": [
    "len(data)"
   ]
  },
  {
   "cell_type": "code",
   "execution_count": 15,
   "id": "281b6c37",
   "metadata": {},
   "outputs": [
    {
     "data": {
      "text/plain": [
       "6383    157.0\n",
       "6384     94.0\n",
       "6385     83.0\n",
       "6386    100.0\n",
       "6387     61.0\n",
       "Name: BOD5, dtype: object"
      ]
     },
     "execution_count": 15,
     "metadata": {},
     "output_type": "execute_result"
    }
   ],
   "source": [
    "data['BOD5'].tail()"
   ]
  },
  {
   "cell_type": "code",
   "execution_count": 16,
   "id": "fd07fcc6",
   "metadata": {},
   "outputs": [],
   "source": [
    "from sklearn.ensemble import RandomForestRegressor\n",
    "from sklearn.model_selection import train_test_split\n",
    "from sklearn.metrics import r2_score, mean_squared_error\n",
    "\n",
    "def getBestFeatures(X, y):\n",
    "    X_train, X_test, y_train, y_test = train_test_split(X, y, test_size = 0.2, random_state = 1)\n",
    "    rf = RandomForestRegressor(n_estimators=25, random_state=1, n_jobs=-1)\n",
    "    \n",
    "    rf.fit(X_train, y_train)\n",
    "    \n",
    "    y_pred = rf.predict(X_test)\n",
    "    \n",
    "    print(f\"r2_score = {r2_score(y_test, y_pred)}\")\n",
    "    print(f\"mean squared error = {mean_squared_error(y_test, y_pred)}\")\n",
    "    \n",
    "    importances = rf.feature_importances_\n",
    "    sorted_indices = np.argsort(importances)[::-1]\n",
    "    feat_labels = data.columns[1:]\n",
    "    print(\"Best features\")\n",
    "    for f in range(X_train.shape[1]):\n",
    "        print(\"%2d) %-*s %f\" % (f + 1, 30,\n",
    "                            feat_labels[sorted_indices[f]],\n",
    "                            importances[sorted_indices[f]]))"
   ]
  },
  {
   "cell_type": "markdown",
   "id": "f7bfe4aa",
   "metadata": {},
   "source": [
    "## y = BOD5"
   ]
  },
  {
   "cell_type": "code",
   "execution_count": 17,
   "id": "003c64ef",
   "metadata": {},
   "outputs": [
    {
     "name": "stdout",
     "output_type": "stream",
     "text": [
      "r2_score = -0.10069420653204042\n",
      "mean squared error = 4223.108997963978\n",
      "Best features\n",
      " 1) P-TOT                          0.220051\n",
      " 2) BOD5                           0.188117\n",
      " 3) Org-N                          0.150927\n",
      " 4) NH3                            0.145120\n",
      " 5) SS                             0.141648\n",
      " 6) TKN                            0.097359\n",
      " 7) PRCP_NOOA                      0.056777\n"
     ]
    }
   ],
   "source": [
    "X = data.drop(['BOD5'], axis=1)\n",
    "y = data['BOD5']\n",
    "\n",
    "getBestFeatures(X, y)"
   ]
  },
  {
   "cell_type": "code",
   "execution_count": 18,
   "id": "065eb185",
   "metadata": {},
   "outputs": [
    {
     "name": "stdout",
     "output_type": "stream",
     "text": [
      "r2_score = 0.9797688756842433\n",
      "mean squared error = 1.2942086715740018\n",
      "Best features\n",
      " 1) Org-N                          0.613328\n",
      " 2) P-TOT                          0.377100\n",
      " 3) SS                             0.004998\n",
      " 4) PRCP_NOOA                      0.002253\n",
      " 5) NH3                            0.000931\n",
      " 6) TKN                            0.000837\n",
      " 7) BOD5                           0.000553\n"
     ]
    }
   ],
   "source": [
    "X = data.drop(['TKN'], axis=1)\n",
    "y = data['TKN']\n",
    "\n",
    "getBestFeatures(X, y)"
   ]
  },
  {
   "cell_type": "code",
   "execution_count": null,
   "id": "07ee8f20",
   "metadata": {},
   "outputs": [],
   "source": []
  }
 ],
 "metadata": {
  "kernelspec": {
   "display_name": "Python 3 (ipykernel)",
   "language": "python",
   "name": "python3"
  },
  "language_info": {
   "codemirror_mode": {
    "name": "ipython",
    "version": 3
   },
   "file_extension": ".py",
   "mimetype": "text/x-python",
   "name": "python",
   "nbconvert_exporter": "python",
   "pygments_lexer": "ipython3",
   "version": "3.10.6"
  }
 },
 "nbformat": 4,
 "nbformat_minor": 5
}
