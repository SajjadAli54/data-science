{
 "cells": [
  {
   "cell_type": "code",
   "execution_count": 1,
   "id": "a23f5851",
   "metadata": {},
   "outputs": [],
   "source": [
    "path = \"data.csv\"\n",
    "import pandas as pd\n",
    "import numpy as np"
   ]
  },
  {
   "cell_type": "code",
   "execution_count": 2,
   "id": "9869a7e3",
   "metadata": {},
   "outputs": [
    {
     "data": {
      "text/html": [
       "<div>\n",
       "<style scoped>\n",
       "    .dataframe tbody tr th:only-of-type {\n",
       "        vertical-align: middle;\n",
       "    }\n",
       "\n",
       "    .dataframe tbody tr th {\n",
       "        vertical-align: top;\n",
       "    }\n",
       "\n",
       "    .dataframe thead th {\n",
       "        text-align: right;\n",
       "    }\n",
       "</style>\n",
       "<table border=\"1\" class=\"dataframe\">\n",
       "  <thead>\n",
       "    <tr style=\"text-align: right;\">\n",
       "      <th></th>\n",
       "      <th>Date</th>\n",
       "      <th>Total Solids</th>\n",
       "      <th>SS</th>\n",
       "      <th>BOD5</th>\n",
       "      <th>NH3</th>\n",
       "      <th>Org-N</th>\n",
       "      <th>P-TOT</th>\n",
       "      <th>SO4</th>\n",
       "      <th>TKN</th>\n",
       "      <th>PRCP_NOOA</th>\n",
       "    </tr>\n",
       "  </thead>\n",
       "  <tbody>\n",
       "    <tr>\n",
       "      <th>0</th>\n",
       "      <td>01/01/2001</td>\n",
       "      <td>984.0</td>\n",
       "      <td>170.0</td>\n",
       "      <td>173</td>\n",
       "      <td>15.93</td>\n",
       "      <td>14.0</td>\n",
       "      <td>4.58</td>\n",
       "      <td>72</td>\n",
       "      <td>29.97</td>\n",
       "      <td>0.0</td>\n",
       "    </tr>\n",
       "    <tr>\n",
       "      <th>1</th>\n",
       "      <td>02/01/2001</td>\n",
       "      <td>924.0</td>\n",
       "      <td>122.0</td>\n",
       "      <td>174</td>\n",
       "      <td>15.52</td>\n",
       "      <td>14.4</td>\n",
       "      <td>4.52</td>\n",
       "      <td>72</td>\n",
       "      <td>29.96</td>\n",
       "      <td>0.0</td>\n",
       "    </tr>\n",
       "    <tr>\n",
       "      <th>2</th>\n",
       "      <td>03/01/2001</td>\n",
       "      <td>1135.0</td>\n",
       "      <td>300.0</td>\n",
       "      <td>303</td>\n",
       "      <td>14.19</td>\n",
       "      <td>21.9</td>\n",
       "      <td>6.06</td>\n",
       "      <td></td>\n",
       "      <td>36.11</td>\n",
       "      <td>0.0</td>\n",
       "    </tr>\n",
       "    <tr>\n",
       "      <th>3</th>\n",
       "      <td>04/01/2001</td>\n",
       "      <td>1013.0</td>\n",
       "      <td>192.0</td>\n",
       "      <td>228</td>\n",
       "      <td>15.43</td>\n",
       "      <td>19.4</td>\n",
       "      <td>5.33</td>\n",
       "      <td></td>\n",
       "      <td>34.83</td>\n",
       "      <td>0.0</td>\n",
       "    </tr>\n",
       "    <tr>\n",
       "      <th>4</th>\n",
       "      <td>05/01/2001</td>\n",
       "      <td>1088.0</td>\n",
       "      <td>226.0</td>\n",
       "      <td>210</td>\n",
       "      <td>14.77</td>\n",
       "      <td>19.3</td>\n",
       "      <td>5.41</td>\n",
       "      <td></td>\n",
       "      <td>34.06</td>\n",
       "      <td>0.0</td>\n",
       "    </tr>\n",
       "  </tbody>\n",
       "</table>\n",
       "</div>"
      ],
      "text/plain": [
       "         Date  Total Solids     SS BOD5    NH3  Org-N P-TOT    SO4    TKN  \\\n",
       "0  01/01/2001         984.0  170.0  173  15.93   14.0  4.58     72  29.97   \n",
       "1  02/01/2001         924.0  122.0  174  15.52   14.4  4.52     72  29.96   \n",
       "2  03/01/2001        1135.0  300.0  303  14.19   21.9  6.06         36.11   \n",
       "3  04/01/2001        1013.0  192.0  228  15.43   19.4  5.33         34.83   \n",
       "4  05/01/2001        1088.0  226.0  210  14.77   19.3  5.41         34.06   \n",
       "\n",
       "   PRCP_NOOA  \n",
       "0        0.0  \n",
       "1        0.0  \n",
       "2        0.0  \n",
       "3        0.0  \n",
       "4        0.0  "
      ]
     },
     "execution_count": 2,
     "metadata": {},
     "output_type": "execute_result"
    }
   ],
   "source": [
    "data = pd.read_csv(path, encoding = \"utf-8\")\n",
    "data.head()"
   ]
  },
  {
   "cell_type": "code",
   "execution_count": 3,
   "id": "4ef072e3",
   "metadata": {},
   "outputs": [],
   "source": [
    "data.drop(['Date'], axis=1, inplace=True)"
   ]
  },
  {
   "cell_type": "code",
   "execution_count": 4,
   "id": "db46d575",
   "metadata": {},
   "outputs": [
    {
     "data": {
      "text/html": [
       "<div>\n",
       "<style scoped>\n",
       "    .dataframe tbody tr th:only-of-type {\n",
       "        vertical-align: middle;\n",
       "    }\n",
       "\n",
       "    .dataframe tbody tr th {\n",
       "        vertical-align: top;\n",
       "    }\n",
       "\n",
       "    .dataframe thead th {\n",
       "        text-align: right;\n",
       "    }\n",
       "</style>\n",
       "<table border=\"1\" class=\"dataframe\">\n",
       "  <thead>\n",
       "    <tr style=\"text-align: right;\">\n",
       "      <th></th>\n",
       "      <th>Total Solids</th>\n",
       "      <th>SS</th>\n",
       "      <th>BOD5</th>\n",
       "      <th>NH3</th>\n",
       "      <th>Org-N</th>\n",
       "      <th>P-TOT</th>\n",
       "      <th>SO4</th>\n",
       "      <th>TKN</th>\n",
       "      <th>PRCP_NOOA</th>\n",
       "    </tr>\n",
       "  </thead>\n",
       "  <tbody>\n",
       "    <tr>\n",
       "      <th>0</th>\n",
       "      <td>984.0</td>\n",
       "      <td>170.0</td>\n",
       "      <td>173</td>\n",
       "      <td>15.93</td>\n",
       "      <td>14.0</td>\n",
       "      <td>4.58</td>\n",
       "      <td>72</td>\n",
       "      <td>29.97</td>\n",
       "      <td>0.0</td>\n",
       "    </tr>\n",
       "    <tr>\n",
       "      <th>1</th>\n",
       "      <td>924.0</td>\n",
       "      <td>122.0</td>\n",
       "      <td>174</td>\n",
       "      <td>15.52</td>\n",
       "      <td>14.4</td>\n",
       "      <td>4.52</td>\n",
       "      <td>72</td>\n",
       "      <td>29.96</td>\n",
       "      <td>0.0</td>\n",
       "    </tr>\n",
       "    <tr>\n",
       "      <th>2</th>\n",
       "      <td>1135.0</td>\n",
       "      <td>300.0</td>\n",
       "      <td>303</td>\n",
       "      <td>14.19</td>\n",
       "      <td>21.9</td>\n",
       "      <td>6.06</td>\n",
       "      <td></td>\n",
       "      <td>36.11</td>\n",
       "      <td>0.0</td>\n",
       "    </tr>\n",
       "    <tr>\n",
       "      <th>3</th>\n",
       "      <td>1013.0</td>\n",
       "      <td>192.0</td>\n",
       "      <td>228</td>\n",
       "      <td>15.43</td>\n",
       "      <td>19.4</td>\n",
       "      <td>5.33</td>\n",
       "      <td></td>\n",
       "      <td>34.83</td>\n",
       "      <td>0.0</td>\n",
       "    </tr>\n",
       "    <tr>\n",
       "      <th>4</th>\n",
       "      <td>1088.0</td>\n",
       "      <td>226.0</td>\n",
       "      <td>210</td>\n",
       "      <td>14.77</td>\n",
       "      <td>19.3</td>\n",
       "      <td>5.41</td>\n",
       "      <td></td>\n",
       "      <td>34.06</td>\n",
       "      <td>0.0</td>\n",
       "    </tr>\n",
       "  </tbody>\n",
       "</table>\n",
       "</div>"
      ],
      "text/plain": [
       "   Total Solids     SS BOD5    NH3  Org-N P-TOT    SO4    TKN  PRCP_NOOA\n",
       "0         984.0  170.0  173  15.93   14.0  4.58     72  29.97        0.0\n",
       "1         924.0  122.0  174  15.52   14.4  4.52     72  29.96        0.0\n",
       "2        1135.0  300.0  303  14.19   21.9  6.06         36.11        0.0\n",
       "3        1013.0  192.0  228  15.43   19.4  5.33         34.83        0.0\n",
       "4        1088.0  226.0  210  14.77   19.3  5.41         34.06        0.0"
      ]
     },
     "execution_count": 4,
     "metadata": {},
     "output_type": "execute_result"
    }
   ],
   "source": [
    "data.head()"
   ]
  },
  {
   "cell_type": "code",
   "execution_count": 5,
   "id": "f7074c0d",
   "metadata": {},
   "outputs": [
    {
     "data": {
      "text/plain": [
       "Total Solids      7\n",
       "SS               10\n",
       "BOD5            186\n",
       "NH3               9\n",
       "Org-N             9\n",
       "P-TOT             6\n",
       "SO4               2\n",
       "TKN               7\n",
       "PRCP_NOOA         0\n",
       "dtype: int64"
      ]
     },
     "execution_count": 5,
     "metadata": {},
     "output_type": "execute_result"
    }
   ],
   "source": [
    "data.isnull().sum()"
   ]
  },
  {
   "cell_type": "code",
   "execution_count": 6,
   "id": "12c33cd8",
   "metadata": {},
   "outputs": [
    {
     "data": {
      "text/plain": [
       "6574"
      ]
     },
     "execution_count": 6,
     "metadata": {},
     "output_type": "execute_result"
    }
   ],
   "source": [
    "len(data)"
   ]
  },
  {
   "cell_type": "code",
   "execution_count": 7,
   "id": "40977d4c",
   "metadata": {},
   "outputs": [],
   "source": [
    "data.dropna(inplace=True)"
   ]
  },
  {
   "cell_type": "code",
   "execution_count": 8,
   "id": "ea762889",
   "metadata": {},
   "outputs": [
    {
     "data": {
      "text/plain": [
       "6381"
      ]
     },
     "execution_count": 8,
     "metadata": {},
     "output_type": "execute_result"
    }
   ],
   "source": [
    "len(data)"
   ]
  },
  {
   "cell_type": "code",
   "execution_count": 9,
   "id": "ac6cfb1b",
   "metadata": {},
   "outputs": [],
   "source": [
    "cols = data.columns\n",
    "\n",
    "for col in data.columns:\n",
    "    for i in data.index:\n",
    "        x = data.loc[i, col]\n",
    "        try:\n",
    "            data.loc[i, col] = float(x)\n",
    "        except:\n",
    "            data.loc[i, col] = None"
   ]
  },
  {
   "cell_type": "code",
   "execution_count": 10,
   "id": "75c85982",
   "metadata": {},
   "outputs": [
    {
     "data": {
      "text/plain": [
       "Total Solids       0\n",
       "SS                 0\n",
       "BOD5               2\n",
       "NH3                0\n",
       "Org-N              0\n",
       "P-TOT              1\n",
       "SO4             5467\n",
       "TKN                0\n",
       "PRCP_NOOA          0\n",
       "dtype: int64"
      ]
     },
     "execution_count": 10,
     "metadata": {},
     "output_type": "execute_result"
    }
   ],
   "source": [
    "data.isnull().sum()"
   ]
  },
  {
   "cell_type": "code",
   "execution_count": 11,
   "id": "a2ff2c9b",
   "metadata": {},
   "outputs": [],
   "source": [
    "data.drop(['SO4'], axis=1, inplace=True)"
   ]
  },
  {
   "cell_type": "code",
   "execution_count": 12,
   "id": "f68ede81",
   "metadata": {},
   "outputs": [],
   "source": [
    "data.dropna(inplace=True)"
   ]
  },
  {
   "cell_type": "code",
   "execution_count": 13,
   "id": "a4aad15e",
   "metadata": {},
   "outputs": [
    {
     "data": {
      "text/plain": [
       "6378"
      ]
     },
     "execution_count": 13,
     "metadata": {},
     "output_type": "execute_result"
    }
   ],
   "source": [
    "len(data)"
   ]
  },
  {
   "cell_type": "code",
   "execution_count": 14,
   "id": "6179c28b",
   "metadata": {},
   "outputs": [
    {
     "name": "stdout",
     "output_type": "stream",
     "text": [
      "min = 0.4\n",
      "max = 142.3\n",
      "range = 141.9\n",
      "\n"
     ]
    }
   ],
   "source": [
    "min_value = data['TKN'].min()\n",
    "max_value = data['TKN'].max()\n",
    "range_value = max_value - min_value\n",
    "print(f\"\"\"min = {min_value}\n",
    "max = {max_value}\n",
    "range = {range_value}\n",
    "\"\"\")"
   ]
  },
  {
   "cell_type": "code",
   "execution_count": 15,
   "id": "ec962239",
   "metadata": {},
   "outputs": [],
   "source": [
    "def transform(x, k):\n",
    "    step = range_value/k\n",
    "    obj = dict()\n",
    "    for i in range(k):\n",
    "        left = min_value + i * step\n",
    "        right = left + step\n",
    "        if x >= left and x <= right:\n",
    "            return i\n",
    "    return 0\n",
    "\n",
    "def transform_data(data, k):\n",
    "    copy = data.copy()\n",
    "    for i in copy.index:\n",
    "        copy[i] = transform(copy[i], k) \n",
    "    return copy"
   ]
  },
  {
   "cell_type": "code",
   "execution_count": 16,
   "id": "fd07fcc6",
   "metadata": {},
   "outputs": [],
   "source": [
    "from sklearn import svm\n",
    "from sklearn.model_selection import train_test_split\n",
    "from sklearn.metrics import accuracy_score, precision_score, recall_score, f1_score\n",
    "\n",
    "def applyModel(X, y):\n",
    "    X_train, X_test, y_train, y_test = train_test_split(X, y, test_size = 0.2, random_state = 1)\n",
    "    clf = svm.SVC(kernel='linear') # Linear Kernel\n",
    "    \n",
    "    clf.fit(X_train, y_train)\n",
    "    \n",
    "    y_pred = clf.predict(X_test)\n",
    "    \n",
    "    print(f\"accuracy score = {accuracy_score(y_test, y_pred)}\")\n",
    "    print(f\"Precision = {precision_score(y_test, y_pred, average='micro')}\")\n",
    "    print(f\"Recall = {recall_score(y_test, y_pred, average='micro')}\")\n",
    "    print(f\"F1 Score = {f1_score(y_test, y_pred, average='micro')}\")"
   ]
  },
  {
   "cell_type": "code",
   "execution_count": 17,
   "id": "c35e2c03",
   "metadata": {},
   "outputs": [],
   "source": [
    "X = data.drop(['TKN'], axis = 1)\n",
    "y = data['TKN']\n",
    "\n",
    "y_20 = transform_data(y, 20)\n",
    "y_40 = transform_data(y, 40)\n",
    "y_80 = transform_data(y, 80)"
   ]
  },
  {
   "cell_type": "code",
   "execution_count": 18,
   "id": "065eb185",
   "metadata": {},
   "outputs": [
    {
     "name": "stdout",
     "output_type": "stream",
     "text": [
      "accuracy score = 0.9749216300940439\n",
      "Precision = 0.9749216300940439\n",
      "Recall = 0.9749216300940439\n",
      "F1 Score = 0.9749216300940439\n"
     ]
    }
   ],
   "source": [
    "applyModel(X, y_20)"
   ]
  },
  {
   "cell_type": "code",
   "execution_count": 19,
   "id": "07ee8f20",
   "metadata": {},
   "outputs": [
    {
     "name": "stdout",
     "output_type": "stream",
     "text": [
      "accuracy score = 0.9553291536050157\n",
      "Precision = 0.9553291536050157\n",
      "Recall = 0.9553291536050157\n",
      "F1 Score = 0.9553291536050157\n"
     ]
    }
   ],
   "source": [
    "applyModel(X, y_40)"
   ]
  },
  {
   "cell_type": "code",
   "execution_count": 20,
   "id": "38c308fd",
   "metadata": {},
   "outputs": [
    {
     "name": "stdout",
     "output_type": "stream",
     "text": [
      "accuracy score = 0.9333855799373041\n",
      "Precision = 0.9333855799373041\n",
      "Recall = 0.9333855799373041\n",
      "F1 Score = 0.9333855799373041\n"
     ]
    }
   ],
   "source": [
    "applyModel(X, y_80)"
   ]
  }
 ],
 "metadata": {
  "kernelspec": {
   "display_name": "Python 3 (ipykernel)",
   "language": "python",
   "name": "python3"
  },
  "language_info": {
   "codemirror_mode": {
    "name": "ipython",
    "version": 3
   },
   "file_extension": ".py",
   "mimetype": "text/x-python",
   "name": "python",
   "nbconvert_exporter": "python",
   "pygments_lexer": "ipython3",
   "version": "3.10.6"
  }
 },
 "nbformat": 4,
 "nbformat_minor": 5
}
