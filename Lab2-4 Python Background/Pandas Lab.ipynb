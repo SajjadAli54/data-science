{
 "cells": [
  {
   "cell_type": "code",
   "execution_count": 2,
   "id": "6f0a0519",
   "metadata": {},
   "outputs": [],
   "source": [
    "import pandas as pd"
   ]
  },
  {
   "cell_type": "code",
   "execution_count": 22,
   "id": "ea604c08",
   "metadata": {},
   "outputs": [
    {
     "name": "stdout",
     "output_type": "stream",
     "text": [
      "cars        Audi\n",
      "passings      34\n",
      "Name: 2, dtype: object\n",
      "(3, 2)\n"
     ]
    }
   ],
   "source": [
    "A = {\n",
    "    'cars' : ['BMW', 'Volvo', 'Audi'],\n",
    "    'passings' : [12,23, 34]\n",
    "}\n",
    "df = pd.DataFrame(A)\n",
    "print(df.iloc[2])\n",
    "print(df.shape)"
   ]
  },
  {
   "cell_type": "code",
   "execution_count": null,
   "id": "248a8075",
   "metadata": {},
   "outputs": [],
   "source": [
    "D = {\n",
    "    'country' : ['Brzail', 'Indai', 'Russoa'],\n",
    "    'capital' : ['Brasilia', 'Delhi', 'Moscow'],\n",
    "    'area' : [8.156, 1254, 2.345],\n",
    "    'popu'\n",
    "}"
   ]
  }
 ],
 "metadata": {
  "kernelspec": {
   "display_name": "Python 3 (ipykernel)",
   "language": "python",
   "name": "python3"
  },
  "language_info": {
   "codemirror_mode": {
    "name": "ipython",
    "version": 3
   },
   "file_extension": ".py",
   "mimetype": "text/x-python",
   "name": "python",
   "nbconvert_exporter": "python",
   "pygments_lexer": "ipython3",
   "version": "3.9.7"
  }
 },
 "nbformat": 4,
 "nbformat_minor": 5
}
