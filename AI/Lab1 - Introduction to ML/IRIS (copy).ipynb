{
 "cells": [
  {
   "cell_type": "code",
   "execution_count": 9,
   "metadata": {
    "id": "TNtBgM0eBgw2"
   },
   "outputs": [
    {
     "name": "stdout",
     "output_type": "stream",
     "text": [
      "accuracy score is: 0.9333333333333333\n",
      "accuracy score is: 1.0\n",
      "accuracy score is: 0.9666666666666667\n",
      "accuracy score is: 0.9666666666666667\n",
      "accuracy score is: 1.0\n",
      "accuracy score is: 0.9666666666666667\n",
      "accuracy score is: 0.9333333333333333\n",
      "accuracy score is: 0.9666666666666667\n",
      "accuracy score is: 0.9666666666666667\n",
      "accuracy score is: 0.9666666666666667\n",
      "accuracy score is: 1.0\n",
      "accuracy score is: 1.0\n",
      "accuracy score is: 0.9666666666666667\n",
      "accuracy score is: 0.9666666666666667\n",
      "accuracy score is: 0.9333333333333333\n"
     ]
    }
   ],
   "source": [
    "import pandas as pd\n",
    "import numpy as np\n",
    "from sklearn.utils import shuffle\n",
    "from sklearn.model_selection import train_test_split\n",
    "from sklearn.neighbors import KNeighborsClassifier\n",
    "from sklearn.metrics import accuracy_score\n",
    "\n",
    "data = pd.read_csv('iris.csv')\n",
    "data = shuffle(data)\n",
    "data = data.dropna()\n",
    "data = data[['sepal.length', 'sepal.width','petal.length','petal.width','variety']]\n",
    "X = data.iloc[:, :-1].values\n",
    "y = data.iloc[:, 4].values\n",
    "\n",
    "file = open('observation2.csv', 'a')\n",
    "file.write(\"k,Accuracy\\n\")\n",
    "for k in range(1,30,2):\n",
    "    X_train, X_test, y_train, y_test = train_test_split(X, y, test_size=0.20)\n",
    "    classifier = KNeighborsClassifier(n_neighbors=k)\n",
    "    classifier.fit(X_train, y_train)\n",
    "    y_pred = classifier.predict(X_test)\n",
    "    file.write(str(k) + \",\" + str(accuracy_score(y_test, y_pred)) + \"\\n\")\n",
    "    print('accuracy score is: '+str(accuracy_score(y_test, y_pred)))\n",
    "file.close()\n"
   ]
  },
  {
   "cell_type": "code",
   "execution_count": null,
   "metadata": {
    "colab": {
     "base_uri": "https://localhost:8080/",
     "height": 206
    },
    "id": "_OpbFzdECPaF",
    "outputId": "7cf5910d-f875-4aa4-fe37-ad4f0feb6d66"
   },
   "outputs": [],
   "source": []
  },
  {
   "cell_type": "code",
   "execution_count": null,
   "metadata": {
    "colab": {
     "base_uri": "https://localhost:8080/",
     "height": 206
    },
    "id": "bdQFiIh15Gv2",
    "outputId": "f4f9fe7c-2e44-46cd-98fe-d419de3b6520"
   },
   "outputs": [],
   "source": []
  },
  {
   "cell_type": "code",
   "execution_count": null,
   "metadata": {
    "id": "k-e5g6hqCa8t"
   },
   "outputs": [],
   "source": [
    "\n"
   ]
  },
  {
   "cell_type": "code",
   "execution_count": null,
   "metadata": {
    "id": "aA3hTDIlCdDN"
   },
   "outputs": [],
   "source": []
  },
  {
   "cell_type": "code",
   "execution_count": null,
   "metadata": {
    "id": "MVnoiOdxDDn8"
   },
   "outputs": [],
   "source": []
  },
  {
   "cell_type": "code",
   "execution_count": null,
   "metadata": {
    "id": "wxuswDOnD-6C"
   },
   "outputs": [],
   "source": []
  },
  {
   "cell_type": "code",
   "execution_count": null,
   "metadata": {
    "colab": {
     "base_uri": "https://localhost:8080/"
    },
    "id": "2qjryzfSEAPq",
    "outputId": "f52ceaaa-f270-4a54-dce0-a2bb98e5a595"
   },
   "outputs": [],
   "source": []
  },
  {
   "cell_type": "code",
   "execution_count": null,
   "metadata": {
    "id": "sjSAzEynGnfT"
   },
   "outputs": [],
   "source": []
  },
  {
   "cell_type": "code",
   "execution_count": null,
   "metadata": {
    "colab": {
     "base_uri": "https://localhost:8080/"
    },
    "id": "I9fTCnawG1VV",
    "outputId": "09cdf96d-1de2-42c2-b258-d130ded22836"
   },
   "outputs": [],
   "source": []
  },
  {
   "cell_type": "code",
   "execution_count": null,
   "metadata": {
    "id": "0t27eiUfG3V1"
   },
   "outputs": [],
   "source": []
  }
 ],
 "metadata": {
  "colab": {
   "name": "IRIS",
   "provenance": []
  },
  "kernelspec": {
   "display_name": "Python 3 (ipykernel)",
   "language": "python",
   "name": "python3"
  },
  "language_info": {
   "codemirror_mode": {
    "name": "ipython",
    "version": 3
   },
   "file_extension": ".py",
   "mimetype": "text/x-python",
   "name": "python",
   "nbconvert_exporter": "python",
   "pygments_lexer": "ipython3",
   "version": "3.9.7"
  }
 },
 "nbformat": 4,
 "nbformat_minor": 1
}
